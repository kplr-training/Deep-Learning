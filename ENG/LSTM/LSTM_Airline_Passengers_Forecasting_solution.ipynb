{
  "cells": [
    {
      "attachments": {},
      "cell_type": "markdown",
      "metadata": {
        "id": "ckKWAmByH6tz"
      },
      "source": [
        "#### LSTM for international airline passengers"
      ]
    },
    {
      "cell_type": "code",
      "execution_count": 1,
      "metadata": {
        "id": "IZDKYNBAHS6q"
      },
      "outputs": [],
      "source": [
        "import numpy\n",
        "import matplotlib.pyplot as plt\n",
        "from pandas import read_csv\n",
        "import math\n",
        "from keras.models import Sequential\n",
        "from keras.layers import Dense\n",
        "from keras.layers import LSTM\n",
        "from sklearn.preprocessing import MinMaxScaler\n",
        "from sklearn.metrics import mean_squared_error\n"
      ]
    },
    {
      "attachments": {},
      "cell_type": "markdown",
      "metadata": {
        "id": "RZMa9qU2H7Hk"
      },
      "source": [
        "#### Convert an array of values into a dataset matrix\n"
      ]
    },
    {
      "cell_type": "code",
      "execution_count": 2,
      "metadata": {
        "id": "2NwnEiNmHckX"
      },
      "outputs": [],
      "source": [
        "def create_dataset(dataset, look_back=1):\n",
        "\tdataX, dataY = [], []\n",
        "\tfor i in range(len(dataset)-look_back-1):\n",
        "\t\ta = dataset[i:(i+look_back), 0]\n",
        "\t\tdataX.append(a)\n",
        "\t\tdataY.append(dataset[i + look_back, 0])\n",
        "\treturn numpy.array(dataX), numpy.array(dataY"
      ]
    },
    {
      "attachments": {},
      "cell_type": "markdown",
      "metadata": {
        "id": "gmQpaF9ZH76r"
      },
      "source": [
        "#### Fix random seed for reproducibility\n"
      ]
    },
    {
      "cell_type": "code",
      "execution_count": 3,
      "metadata": {
        "id": "Hi8wnnrFHciV"
      },
      "outputs": [],
      "source": [
        "numpy.random.seed(7)"
      ]
    },
    {
      "attachments": {},
      "cell_type": "markdown",
      "metadata": {
        "id": "dzjpn2cqJrBI"
      },
      "source": [
        "Link to dataset : <br>\n",
        "https://raw.githubusercontent.com/jbrownlee/Datasets/master/airline-passengers.csv"
      ]
    },
    {
      "attachments": {},
      "cell_type": "markdown",
      "metadata": {
        "id": "y_GD4AcxIBT6"
      },
      "source": [
        "#### Load the dataset\n"
      ]
    },
    {
      "cell_type": "code",
      "execution_count": 5,
      "metadata": {
        "id": "wn9uGOWxHcf9"
      },
      "outputs": [],
      "source": [
        "dataframe = read_csv('https://raw.githubusercontent.com/jbrownlee/Datasets/master/airline-passengers.csv', usecols=[1], engine='python')\n",
        "dataset = dataframe.values\n",
        "dataset = dataset.astype('float32')"
      ]
    },
    {
      "attachments": {},
      "cell_type": "markdown",
      "metadata": {
        "id": "mbGoLX5hIBxG"
      },
      "source": [
        "#### Normalize the dataset"
      ]
    },
    {
      "cell_type": "code",
      "execution_count": 6,
      "metadata": {
        "id": "oVVG7jlXHcds"
      },
      "outputs": [],
      "source": [
        "scaler = MinMaxScaler(feature_range=(0, 1))\n",
        "dataset = scaler.fit_transform(dataset)"
      ]
    },
    {
      "attachments": {},
      "cell_type": "markdown",
      "metadata": {
        "id": "C9HkzmEMICna"
      },
      "source": [
        "#### Split into train and test sets\n"
      ]
    },
    {
      "cell_type": "code",
      "execution_count": 7,
      "metadata": {
        "id": "NUohhyqFHcbw"
      },
      "outputs": [],
      "source": [
        "train_size = int(len(dataset) * 0.67)\n",
        "test_size = len(dataset) - train_size\n",
        "train, test = dataset[0:train_size,:], dataset[train_size:len(dataset),:]"
      ]
    },
    {
      "attachments": {},
      "cell_type": "markdown",
      "metadata": {
        "id": "gORxHVCEIC-S"
      },
      "source": [
        "#### Reshape into X=t and Y=t+1"
      ]
    },
    {
      "cell_type": "code",
      "execution_count": 8,
      "metadata": {
        "id": "UYr2L0PTHcZU"
      },
      "outputs": [],
      "source": [
        "look_back = 1\n",
        "trainX, trainY = create_dataset(train, look_back)\n",
        "testX, testY = create_dataset(test, look_back)"
      ]
    },
    {
      "attachments": {},
      "cell_type": "markdown",
      "metadata": {
        "id": "DSekcxplIDeR"
      },
      "source": [
        "#### Reshape input to be [samples, time steps, features]\n"
      ]
    },
    {
      "cell_type": "code",
      "execution_count": 9,
      "metadata": {
        "id": "cm2nsuJDHcXV"
      },
      "outputs": [],
      "source": [
        "trainX = numpy.reshape(trainX, (trainX.shape[0], 1, trainX.shape[1]))\n",
        "testX = numpy.reshape(testX, (testX.shape[0], 1, testX.shape[1]))"
      ]
    },
    {
      "attachments": {},
      "cell_type": "markdown",
      "metadata": {
        "id": "N-thOrRlID7c"
      },
      "source": [
        "#### Create and fit the LSTM network\n"
      ]
    },
    {
      "cell_type": "code",
      "execution_count": 10,
      "metadata": {
        "colab": {
          "base_uri": "https://localhost:8080/"
        },
        "id": "zk_XNSWtHcUW",
        "outputId": "8f0fc166-a605-49a4-bc91-1211e7b7ccb9"
      },
      "outputs": [
        {
          "name": "stdout",
          "output_type": "stream",
          "text": [
            "Epoch 1/100\n",
            "94/94 - 5s - loss: 0.0376 - 5s/epoch - 54ms/step\n",
            "Epoch 2/100\n",
            "94/94 - 0s - loss: 0.0181 - 258ms/epoch - 3ms/step\n",
            "Epoch 3/100\n",
            "94/94 - 0s - loss: 0.0139 - 251ms/epoch - 3ms/step\n",
            "Epoch 4/100\n",
            "94/94 - 0s - loss: 0.0128 - 361ms/epoch - 4ms/step\n",
            "Epoch 5/100\n",
            "94/94 - 0s - loss: 0.0118 - 251ms/epoch - 3ms/step\n",
            "Epoch 6/100\n",
            "94/94 - 0s - loss: 0.0110 - 298ms/epoch - 3ms/step\n",
            "Epoch 7/100\n",
            "94/94 - 0s - loss: 0.0101 - 265ms/epoch - 3ms/step\n",
            "Epoch 8/100\n",
            "94/94 - 1s - loss: 0.0092 - 587ms/epoch - 6ms/step\n",
            "Epoch 9/100\n",
            "94/94 - 0s - loss: 0.0084 - 487ms/epoch - 5ms/step\n",
            "Epoch 10/100\n",
            "94/94 - 0s - loss: 0.0076 - 434ms/epoch - 5ms/step\n",
            "Epoch 11/100\n",
            "94/94 - 0s - loss: 0.0067 - 253ms/epoch - 3ms/step\n",
            "Epoch 12/100\n",
            "94/94 - 0s - loss: 0.0060 - 237ms/epoch - 3ms/step\n",
            "Epoch 13/100\n",
            "94/94 - 0s - loss: 0.0053 - 317ms/epoch - 3ms/step\n",
            "Epoch 14/100\n",
            "94/94 - 0s - loss: 0.0046 - 311ms/epoch - 3ms/step\n",
            "Epoch 15/100\n",
            "94/94 - 0s - loss: 0.0040 - 266ms/epoch - 3ms/step\n",
            "Epoch 16/100\n",
            "94/94 - 0s - loss: 0.0035 - 260ms/epoch - 3ms/step\n",
            "Epoch 17/100\n",
            "94/94 - 0s - loss: 0.0031 - 269ms/epoch - 3ms/step\n",
            "Epoch 18/100\n",
            "94/94 - 0s - loss: 0.0027 - 383ms/epoch - 4ms/step\n",
            "Epoch 19/100\n",
            "94/94 - 1s - loss: 0.0025 - 522ms/epoch - 6ms/step\n",
            "Epoch 20/100\n",
            "94/94 - 0s - loss: 0.0023 - 187ms/epoch - 2ms/step\n",
            "Epoch 21/100\n",
            "94/94 - 0s - loss: 0.0022 - 281ms/epoch - 3ms/step\n",
            "Epoch 22/100\n",
            "94/94 - 0s - loss: 0.0021 - 263ms/epoch - 3ms/step\n",
            "Epoch 23/100\n",
            "94/94 - 0s - loss: 0.0021 - 250ms/epoch - 3ms/step\n",
            "Epoch 24/100\n",
            "94/94 - 0s - loss: 0.0020 - 253ms/epoch - 3ms/step\n",
            "Epoch 25/100\n",
            "94/94 - 0s - loss: 0.0020 - 280ms/epoch - 3ms/step\n",
            "Epoch 26/100\n",
            "94/94 - 0s - loss: 0.0020 - 251ms/epoch - 3ms/step\n",
            "Epoch 27/100\n",
            "94/94 - 0s - loss: 0.0020 - 236ms/epoch - 3ms/step\n",
            "Epoch 28/100\n",
            "94/94 - 0s - loss: 0.0020 - 261ms/epoch - 3ms/step\n",
            "Epoch 29/100\n",
            "94/94 - 0s - loss: 0.0020 - 225ms/epoch - 2ms/step\n",
            "Epoch 30/100\n",
            "94/94 - 0s - loss: 0.0020 - 250ms/epoch - 3ms/step\n",
            "Epoch 31/100\n",
            "94/94 - 0s - loss: 0.0020 - 153ms/epoch - 2ms/step\n",
            "Epoch 32/100\n",
            "94/94 - 0s - loss: 0.0021 - 171ms/epoch - 2ms/step\n",
            "Epoch 33/100\n",
            "94/94 - 0s - loss: 0.0020 - 163ms/epoch - 2ms/step\n",
            "Epoch 34/100\n",
            "94/94 - 0s - loss: 0.0020 - 156ms/epoch - 2ms/step\n",
            "Epoch 35/100\n",
            "94/94 - 0s - loss: 0.0021 - 159ms/epoch - 2ms/step\n",
            "Epoch 36/100\n",
            "94/94 - 0s - loss: 0.0020 - 165ms/epoch - 2ms/step\n",
            "Epoch 37/100\n",
            "94/94 - 0s - loss: 0.0020 - 153ms/epoch - 2ms/step\n",
            "Epoch 38/100\n",
            "94/94 - 0s - loss: 0.0020 - 153ms/epoch - 2ms/step\n",
            "Epoch 39/100\n",
            "94/94 - 0s - loss: 0.0020 - 162ms/epoch - 2ms/step\n",
            "Epoch 40/100\n",
            "94/94 - 0s - loss: 0.0021 - 171ms/epoch - 2ms/step\n",
            "Epoch 41/100\n",
            "94/94 - 0s - loss: 0.0020 - 154ms/epoch - 2ms/step\n",
            "Epoch 42/100\n",
            "94/94 - 0s - loss: 0.0020 - 170ms/epoch - 2ms/step\n",
            "Epoch 43/100\n",
            "94/94 - 0s - loss: 0.0021 - 170ms/epoch - 2ms/step\n",
            "Epoch 44/100\n",
            "94/94 - 0s - loss: 0.0021 - 154ms/epoch - 2ms/step\n",
            "Epoch 45/100\n",
            "94/94 - 0s - loss: 0.0021 - 157ms/epoch - 2ms/step\n",
            "Epoch 46/100\n",
            "94/94 - 0s - loss: 0.0020 - 168ms/epoch - 2ms/step\n",
            "Epoch 47/100\n",
            "94/94 - 0s - loss: 0.0020 - 168ms/epoch - 2ms/step\n",
            "Epoch 48/100\n",
            "94/94 - 0s - loss: 0.0020 - 180ms/epoch - 2ms/step\n",
            "Epoch 49/100\n",
            "94/94 - 0s - loss: 0.0021 - 158ms/epoch - 2ms/step\n",
            "Epoch 50/100\n",
            "94/94 - 0s - loss: 0.0021 - 150ms/epoch - 2ms/step\n",
            "Epoch 51/100\n",
            "94/94 - 0s - loss: 0.0020 - 149ms/epoch - 2ms/step\n",
            "Epoch 52/100\n",
            "94/94 - 0s - loss: 0.0020 - 161ms/epoch - 2ms/step\n",
            "Epoch 53/100\n",
            "94/94 - 0s - loss: 0.0020 - 152ms/epoch - 2ms/step\n",
            "Epoch 54/100\n",
            "94/94 - 0s - loss: 0.0020 - 154ms/epoch - 2ms/step\n",
            "Epoch 55/100\n",
            "94/94 - 0s - loss: 0.0020 - 158ms/epoch - 2ms/step\n",
            "Epoch 56/100\n",
            "94/94 - 0s - loss: 0.0021 - 165ms/epoch - 2ms/step\n",
            "Epoch 57/100\n",
            "94/94 - 0s - loss: 0.0020 - 153ms/epoch - 2ms/step\n",
            "Epoch 58/100\n",
            "94/94 - 0s - loss: 0.0021 - 169ms/epoch - 2ms/step\n",
            "Epoch 59/100\n",
            "94/94 - 0s - loss: 0.0020 - 161ms/epoch - 2ms/step\n",
            "Epoch 60/100\n",
            "94/94 - 0s - loss: 0.0020 - 157ms/epoch - 2ms/step\n",
            "Epoch 61/100\n",
            "94/94 - 0s - loss: 0.0020 - 155ms/epoch - 2ms/step\n",
            "Epoch 62/100\n",
            "94/94 - 0s - loss: 0.0020 - 169ms/epoch - 2ms/step\n",
            "Epoch 63/100\n",
            "94/94 - 0s - loss: 0.0020 - 156ms/epoch - 2ms/step\n",
            "Epoch 64/100\n",
            "94/94 - 0s - loss: 0.0020 - 152ms/epoch - 2ms/step\n",
            "Epoch 65/100\n",
            "94/94 - 0s - loss: 0.0020 - 154ms/epoch - 2ms/step\n",
            "Epoch 66/100\n",
            "94/94 - 0s - loss: 0.0020 - 164ms/epoch - 2ms/step\n",
            "Epoch 67/100\n",
            "94/94 - 0s - loss: 0.0021 - 174ms/epoch - 2ms/step\n",
            "Epoch 68/100\n",
            "94/94 - 0s - loss: 0.0021 - 152ms/epoch - 2ms/step\n",
            "Epoch 69/100\n",
            "94/94 - 0s - loss: 0.0021 - 145ms/epoch - 2ms/step\n",
            "Epoch 70/100\n",
            "94/94 - 0s - loss: 0.0020 - 168ms/epoch - 2ms/step\n",
            "Epoch 71/100\n",
            "94/94 - 0s - loss: 0.0021 - 169ms/epoch - 2ms/step\n",
            "Epoch 72/100\n",
            "94/94 - 0s - loss: 0.0021 - 229ms/epoch - 2ms/step\n",
            "Epoch 73/100\n",
            "94/94 - 0s - loss: 0.0020 - 387ms/epoch - 4ms/step\n",
            "Epoch 74/100\n",
            "94/94 - 0s - loss: 0.0020 - 379ms/epoch - 4ms/step\n",
            "Epoch 75/100\n",
            "94/94 - 0s - loss: 0.0020 - 367ms/epoch - 4ms/step\n",
            "Epoch 76/100\n",
            "94/94 - 1s - loss: 0.0020 - 510ms/epoch - 5ms/step\n",
            "Epoch 77/100\n",
            "94/94 - 0s - loss: 0.0020 - 399ms/epoch - 4ms/step\n",
            "Epoch 78/100\n",
            "94/94 - 0s - loss: 0.0020 - 355ms/epoch - 4ms/step\n",
            "Epoch 79/100\n",
            "94/94 - 0s - loss: 0.0020 - 420ms/epoch - 4ms/step\n",
            "Epoch 80/100\n",
            "94/94 - 1s - loss: 0.0021 - 587ms/epoch - 6ms/step\n",
            "Epoch 81/100\n",
            "94/94 - 1s - loss: 0.0020 - 690ms/epoch - 7ms/step\n",
            "Epoch 82/100\n",
            "94/94 - 1s - loss: 0.0020 - 606ms/epoch - 6ms/step\n",
            "Epoch 83/100\n",
            "94/94 - 0s - loss: 0.0020 - 319ms/epoch - 3ms/step\n",
            "Epoch 84/100\n",
            "94/94 - 0s - loss: 0.0021 - 235ms/epoch - 2ms/step\n",
            "Epoch 85/100\n",
            "94/94 - 0s - loss: 0.0020 - 231ms/epoch - 2ms/step\n",
            "Epoch 86/100\n",
            "94/94 - 0s - loss: 0.0020 - 251ms/epoch - 3ms/step\n",
            "Epoch 87/100\n",
            "94/94 - 0s - loss: 0.0020 - 167ms/epoch - 2ms/step\n",
            "Epoch 88/100\n",
            "94/94 - 0s - loss: 0.0020 - 154ms/epoch - 2ms/step\n",
            "Epoch 89/100\n",
            "94/94 - 0s - loss: 0.0020 - 164ms/epoch - 2ms/step\n",
            "Epoch 90/100\n",
            "94/94 - 0s - loss: 0.0020 - 170ms/epoch - 2ms/step\n",
            "Epoch 91/100\n",
            "94/94 - 0s - loss: 0.0020 - 169ms/epoch - 2ms/step\n",
            "Epoch 92/100\n",
            "94/94 - 0s - loss: 0.0020 - 170ms/epoch - 2ms/step\n",
            "Epoch 93/100\n",
            "94/94 - 0s - loss: 0.0020 - 185ms/epoch - 2ms/step\n",
            "Epoch 94/100\n",
            "94/94 - 0s - loss: 0.0020 - 160ms/epoch - 2ms/step\n",
            "Epoch 95/100\n",
            "94/94 - 0s - loss: 0.0020 - 175ms/epoch - 2ms/step\n",
            "Epoch 96/100\n",
            "94/94 - 0s - loss: 0.0020 - 160ms/epoch - 2ms/step\n",
            "Epoch 97/100\n",
            "94/94 - 0s - loss: 0.0020 - 162ms/epoch - 2ms/step\n",
            "Epoch 98/100\n",
            "94/94 - 0s - loss: 0.0020 - 204ms/epoch - 2ms/step\n",
            "Epoch 99/100\n",
            "94/94 - 0s - loss: 0.0020 - 182ms/epoch - 2ms/step\n",
            "Epoch 100/100\n",
            "94/94 - 0s - loss: 0.0020 - 162ms/epoch - 2ms/step\n"
          ]
        },
        {
          "data": {
            "text/plain": [
              "<keras.callbacks.History at 0x7f95f806f400>"
            ]
          },
          "execution_count": 10,
          "metadata": {},
          "output_type": "execute_result"
        }
      ],
      "source": [
        "model = Sequential()\n",
        "model.add(LSTM(4, input_shape=(1, look_back)))\n",
        "model.add(Dense(1))\n",
        "model.compile(loss='mean_squared_error', optimizer='adam')\n",
        "model.fit(trainX, trainY, epochs=100, batch_size=1, verbose=2)"
      ]
    },
    {
      "attachments": {},
      "cell_type": "markdown",
      "metadata": {
        "id": "lhgF0QAAIE2w"
      },
      "source": [
        "#### Make predictions\n"
      ]
    },
    {
      "cell_type": "code",
      "execution_count": 11,
      "metadata": {
        "colab": {
          "base_uri": "https://localhost:8080/"
        },
        "id": "pq13LgcIHcNU",
        "outputId": "7cf7edc0-f1d8-40a9-9cc0-66d215cbf945"
      },
      "outputs": [
        {
          "name": "stdout",
          "output_type": "stream",
          "text": [
            "3/3 [==============================] - 1s 4ms/step\n",
            "2/2 [==============================] - 0s 8ms/step\n"
          ]
        }
      ],
      "source": [
        "trainPredict = model.predict(trainX)\n",
        "testPredict = model.predict(testX)"
      ]
    },
    {
      "attachments": {},
      "cell_type": "markdown",
      "metadata": {
        "id": "4JXXNKTTIFj2"
      },
      "source": [
        "#### Invert predictions\n"
      ]
    },
    {
      "cell_type": "code",
      "execution_count": 12,
      "metadata": {
        "id": "BDELpN9mHcBB"
      },
      "outputs": [],
      "source": [
        "trainPredict = scaler.inverse_transform(trainPredict)\n",
        "trainY = scaler.inverse_transform([trainY])\n",
        "testPredict = scaler.inverse_transform(testPredict)\n",
        "testY = scaler.inverse_transform([testY])"
      ]
    },
    {
      "attachments": {},
      "cell_type": "markdown",
      "metadata": {
        "id": "seF_jMbbIF_f"
      },
      "source": [
        "#### calculate root mean squared error\n"
      ]
    },
    {
      "cell_type": "code",
      "execution_count": 13,
      "metadata": {
        "colab": {
          "base_uri": "https://localhost:8080/"
        },
        "id": "mqckfeH_HyMJ",
        "outputId": "c611be6e-a055-4355-a239-78e1f6ab09ed"
      },
      "outputs": [
        {
          "name": "stdout",
          "output_type": "stream",
          "text": [
            "Train Score: 22.80 RMSE\n",
            "Test Score: 49.81 RMSE\n"
          ]
        }
      ],
      "source": [
        "trainScore = math.sqrt(mean_squared_error(trainY[0], trainPredict[:,0]))\n",
        "print('Train Score: %.2f RMSE' % (trainScore))\n",
        "testScore = math.sqrt(mean_squared_error(testY[0], testPredict[:,0]))\n",
        "print('Test Score: %.2f RMSE' % (testScore))"
      ]
    },
    {
      "attachments": {},
      "cell_type": "markdown",
      "metadata": {
        "id": "x-tgLtTqIGfn"
      },
      "source": [
        "#### Shift train predictions for plotting\n"
      ]
    },
    {
      "cell_type": "code",
      "execution_count": 14,
      "metadata": {
        "id": "JVI-ayucHyJ-"
      },
      "outputs": [],
      "source": [
        "trainPredictPlot = numpy.empty_like(dataset)\n",
        "trainPredictPlot[:, :] = numpy.nan\n",
        "trainPredictPlot[look_back:len(trainPredict)+look_back, :] = trainPredict"
      ]
    },
    {
      "attachments": {},
      "cell_type": "markdown",
      "metadata": {
        "id": "QNyZHjYXIHI1"
      },
      "source": [
        "#### Shift test predictions for plotting\n"
      ]
    },
    {
      "cell_type": "code",
      "execution_count": 15,
      "metadata": {
        "id": "_q4-1IKhHyHg"
      },
      "outputs": [],
      "source": [
        "testPredictPlot = numpy.empty_like(dataset)\n",
        "testPredictPlot[:, :] = numpy.nan\n",
        "testPredictPlot[len(trainPredict)+(look_back*2)+1:len(dataset)-1, :] = testPredict"
      ]
    },
    {
      "attachments": {},
      "cell_type": "markdown",
      "metadata": {
        "id": "bBa28cohIHle"
      },
      "source": [
        "#### Plot baseline and predictions\n"
      ]
    },
    {
      "cell_type": "code",
      "execution_count": 16,
      "metadata": {
        "colab": {
          "base_uri": "https://localhost:8080/",
          "height": 430
        },
        "id": "qi-F3p8RHyE4",
        "outputId": "9e93c835-7bec-43a2-d2e8-af160d9c6ff5"
      },
      "outputs": [
        {
          "data": {
            "image/png": "[encoded data removed]",
            "text/plain": [
              "<Figure size 640x480 with 1 Axes>"
            ]
          },
          "metadata": {},
          "output_type": "display_data"
        }
      ],
      "source": [
        "plt.plot(scaler.inverse_transform(dataset))\n",
        "plt.plot(trainPredictPlot)\n",
        "plt.plot(testPredictPlot)\n",
        "plt.show()"
      ]
    }
  ],
  "metadata": {
    "colab": {
      "provenance": []
    },
    "kernelspec": {
      "display_name": "Python 3",
      "name": "python3"
    },
    "language_info": {
      "name": "python"
    }
  },
  "nbformat": 4,
  "nbformat_minor": 0
}
